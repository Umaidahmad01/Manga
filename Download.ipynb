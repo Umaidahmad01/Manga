{
 "cells": [
  {
   "cell_type": "code",
   "execution_count": 1,
   "metadata": {},
   "outputs": [],
   "source": [
    "import os\n",
    "from mangafetcher import (\n",
    "    SearchEngine, ChapterManager,\n",
    "    ChapterDownloader, PDFCreator\n",
    ")\n",
    "from mangafetcher.utils import (\n",
    "    make_directory, remove_directory\n",
    ")"
   ]
  },
  {
   "cell_type": "code",
   "execution_count": 2,
   "metadata": {},
   "outputs": [
    {
     "name": "stdout",
     "output_type": "stream",
     "text": [
      "Yakusoku no Neverland -> https://manganelo.com/manga/yakusoku_no_neverland\n",
      "The Parodied Jokeland -> https://manganelo.com/manga/hj919232\n",
      "Neverlan Chronicle -> https://manganelo.com/manga/neverlan_chronicle\n",
      "Mia - Neverland Above the Clouds -> https://manganelo.com/manga/gs920630\n"
     ]
    }
   ],
   "source": [
    "# Enter the query string here...\n",
    "search_engine = SearchEngine(query='neverland')\n",
    "results = search_engine.results()\n",
    "for result in results:\n",
    "    try: print('{} -> {}'.format(result.title, result.url))\n",
    "    except: pass"
   ]
  },
  {
   "cell_type": "code",
   "execution_count": 3,
   "metadata": {},
   "outputs": [
    {
     "name": "stdout",
     "output_type": "stream",
     "text": [
      "Total Number of Chapters: 182\n"
     ]
    }
   ],
   "source": [
    "# Select the Manga URL of your choice here...\n",
    "chapters = ChapterManager.get_chapter_links(chapter_url='https://manganelo.com/manga/yakusoku_no_neverland')\n",
    "chapters = chapters[::-1]\n",
    "print('Total Number of Chapters: {}'.format(len(chapters)))"
   ]
  },
  {
   "cell_type": "code",
   "execution_count": 4,
   "metadata": {},
   "outputs": [],
   "source": [
    "make_directory('dump')\n",
    "remove_directory('./dump/')\n",
    "make_directory('pdf_dump')\n",
    "pdf_location = './pdf_dump'"
   ]
  },
  {
   "cell_type": "code",
   "execution_count": 5,
   "metadata": {},
   "outputs": [],
   "source": [
    "start_index = 2\n",
    "end_index = 3"
   ]
  },
  {
   "cell_type": "code",
   "execution_count": null,
   "metadata": {},
   "outputs": [
    {
     "name": "stdout",
     "output_type": "stream",
     "text": [
      "Downloading Chapter Chapter 2 : Exit from https://manganelo.com/chapter/yakusoku_no_neverland/chapter_2...\n"
     ]
    }
   ],
   "source": [
    "for index in range(start_index - 1, end_index - 1):\n",
    "\n",
    "    remove_directory('./dump/')\n",
    "    make_directory('dump')\n",
    "\n",
    "    print(\n",
    "        'Downloading Chapter {} from {}...'.format(\n",
    "            chapters[index].title, chapters[index].url\n",
    "        )\n",
    "    )\n",
    "    downloader = ChapterDownloader(\n",
    "        executable_path='C:\\\\GeckoDriver\\\\geckodriver.exe',\n",
    "        dump_path='C:\\\\Workspace\\\\Manga-Scraper\\\\dump'\n",
    "    )\n",
    "    downloader.download_images(chapters[index].url)\n",
    "\n",
    "    print('Compiling into PDF')\n",
    "    PDFCreator.create_pdf(\n",
    "        image_dump_dir='./dump/',\n",
    "        pdf_location=pdf_location + '/' + chapters[index].title + '.pdf'\n",
    "    )"
   ]
  },
  {
   "cell_type": "code",
   "execution_count": null,
   "metadata": {},
   "outputs": [],
   "source": []
  }
 ],
 "metadata": {
  "kernelspec": {
   "display_name": "Python 3",
   "language": "python",
   "name": "python3"
  },
  "language_info": {
   "codemirror_mode": {
    "name": "ipython",
    "version": 3
   },
   "file_extension": ".py",
   "mimetype": "text/x-python",
   "name": "python",
   "nbconvert_exporter": "python",
   "pygments_lexer": "ipython3",
   "version": "3.7.4"
  }
 },
 "nbformat": 4,
 "nbformat_minor": 2
}
